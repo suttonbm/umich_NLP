{
 "cells": [
  {
   "cell_type": "code",
   "execution_count": 10,
   "metadata": {
    "collapsed": false
   },
   "outputs": [],
   "source": [
    "import nltk\n",
    "import numpy as np\n",
    "import itertools as it\n",
    "from collections import Counter, defaultdict"
   ]
  },
  {
   "cell_type": "code",
   "execution_count": 38,
   "metadata": {
    "collapsed": false
   },
   "outputs": [],
   "source": [
    "with open('data/Sample1.txt', 'r') as ifile:\n",
    "    sents = ifile.readlines()\n",
    "\n",
    "def fancysplit0(sents):\n",
    "    return [(\"SENT \" + s + \" *\").split() for s in sents]\n",
    "\n",
    "def bigrams2(toks):\n",
    "    return [[(sent[i], sent[i+1]) for i in range(len(sent)-1)] for sent in toks]\n",
    "\n",
    "def trigrams1(toks):\n",
    "    return [[(sent[i], sent[i+1], sent[i+2]) for i in range(len(sent)-2)] for sent in toks]\n",
    "\n",
    "toks = fancysplit0(sents)\n",
    "\n",
    "words = [t for sublist in toks for t in sublist]\n",
    "bigrams = [t for sublist in bigrams2(toks) for t in sublist]\n",
    "trigrams = [t for sublist in trigrams1(toks) for t in sublist]"
   ]
  },
  {
   "cell_type": "code",
   "execution_count": 39,
   "metadata": {
    "collapsed": false
   },
   "outputs": [
    {
     "data": {
      "text/plain": [
       "['SENT', 'The', 'Fulton', 'County', 'Grand']"
      ]
     },
     "execution_count": 39,
     "metadata": {},
     "output_type": "execute_result"
    }
   ],
   "source": [
    "words[:5]"
   ]
  },
  {
   "cell_type": "code",
   "execution_count": 30,
   "metadata": {
    "collapsed": false
   },
   "outputs": [
    {
     "data": {
      "text/plain": [
       "[('SENT', 'The'),\n",
       " ('The', 'Fulton'),\n",
       " ('Fulton', 'County'),\n",
       " ('County', 'Grand'),\n",
       " ('Grand', 'Jury')]"
      ]
     },
     "execution_count": 30,
     "metadata": {},
     "output_type": "execute_result"
    }
   ],
   "source": [
    "bigrams[:5]"
   ]
  },
  {
   "cell_type": "code",
   "execution_count": 31,
   "metadata": {
    "collapsed": false
   },
   "outputs": [
    {
     "data": {
      "text/plain": [
       "[('SENT', 'The', 'Fulton'),\n",
       " ('The', 'Fulton', 'County'),\n",
       " ('Fulton', 'County', 'Grand'),\n",
       " ('County', 'Grand', 'Jury'),\n",
       " ('Grand', 'Jury', 'said')]"
      ]
     },
     "execution_count": 31,
     "metadata": {},
     "output_type": "execute_result"
    }
   ],
   "source": [
    "trigrams[:5]"
   ]
  },
  {
   "cell_type": "code",
   "execution_count": 36,
   "metadata": {
    "collapsed": false
   },
   "outputs": [
    {
     "data": {
      "text/plain": [
       "131102"
      ]
     },
     "execution_count": 36,
     "metadata": {},
     "output_type": "execute_result"
    }
   ],
   "source": [
    "len(words)"
   ]
  },
  {
   "cell_type": "code",
   "execution_count": 37,
   "metadata": {
    "collapsed": false
   },
   "outputs": [
    {
     "data": {
      "text/plain": [
       "126102"
      ]
     },
     "execution_count": 37,
     "metadata": {},
     "output_type": "execute_result"
    }
   ],
   "source": [
    "len(bigrams)"
   ]
  },
  {
   "cell_type": "code",
   "execution_count": 11,
   "metadata": {
    "collapsed": true
   },
   "outputs": [],
   "source": [
    "def words0(words):\n",
    "    return {item : words.count(item) for item in set(words)}\n",
    "\n",
    "def words1(words):\n",
    "    return nltk.FreqDist(words)\n",
    "\n",
    "def words2(words):\n",
    "    return Counter(words)\n",
    "\n",
    "def words3(words):\n",
    "    d = defaultdict(int)\n",
    "    for w in words:\n",
    "        d[w] += 1\n",
    "    return d"
   ]
  },
  {
   "cell_type": "code",
   "execution_count": 14,
   "metadata": {
    "collapsed": false
   },
   "outputs": [
    {
     "name": "stdout",
     "output_type": "stream",
     "text": [
      "100 loops, best of 3: 47.9 ms per loop\n"
     ]
    }
   ],
   "source": [
    "%timeit -n 100 w = words1(words)"
   ]
  },
  {
   "cell_type": "code",
   "execution_count": 15,
   "metadata": {
    "collapsed": false
   },
   "outputs": [
    {
     "name": "stdout",
     "output_type": "stream",
     "text": [
      "100 loops, best of 3: 46.9 ms per loop\n"
     ]
    }
   ],
   "source": [
    "%timeit -n 100 w = words2(words)"
   ]
  },
  {
   "cell_type": "code",
   "execution_count": 16,
   "metadata": {
    "collapsed": false
   },
   "outputs": [
    {
     "name": "stdout",
     "output_type": "stream",
     "text": [
      "100 loops, best of 3: 20.4 ms per loop\n"
     ]
    }
   ],
   "source": [
    "%timeit -n 100 w = words3(words)"
   ]
  },
  {
   "cell_type": "code",
   "execution_count": 32,
   "metadata": {
    "collapsed": true
   },
   "outputs": [],
   "source": [
    "def bigrams1(bigrams):\n",
    "    return nltk.FreqDist(bigrams)\n",
    "\n",
    "def bigrams2(bigrams):\n",
    "    return Counter(bigrams)\n",
    "\n",
    "def bigrams3(bigrams):\n",
    "    d = defaultdict(int)\n",
    "    for b in bigrams:\n",
    "        d[b] += 1\n",
    "    return d"
   ]
  },
  {
   "cell_type": "code",
   "execution_count": 33,
   "metadata": {
    "collapsed": false
   },
   "outputs": [
    {
     "name": "stdout",
     "output_type": "stream",
     "text": [
      "100 loops, best of 3: 74 ms per loop\n"
     ]
    }
   ],
   "source": [
    "%timeit -n 100 b = bigrams1(bigrams)"
   ]
  },
  {
   "cell_type": "code",
   "execution_count": 34,
   "metadata": {
    "collapsed": false
   },
   "outputs": [
    {
     "name": "stdout",
     "output_type": "stream",
     "text": [
      "100 loops, best of 3: 68.8 ms per loop\n"
     ]
    }
   ],
   "source": [
    "%timeit -n 100 b = bigrams2(bigrams)"
   ]
  },
  {
   "cell_type": "code",
   "execution_count": 35,
   "metadata": {
    "collapsed": false
   },
   "outputs": [
    {
     "name": "stdout",
     "output_type": "stream",
     "text": [
      "100 loops, best of 3: 49.5 ms per loop\n"
     ]
    }
   ],
   "source": [
    "%timeit -n 100 b = bigrams3(bigrams)"
   ]
  },
  {
   "cell_type": "markdown",
   "metadata": {},
   "source": [
    "Looks like using defaultdict is the best way to go for summarizing data."
   ]
  }
 ],
 "metadata": {
  "kernelspec": {
   "display_name": "Python 2",
   "language": "python",
   "name": "python2"
  },
  "language_info": {
   "codemirror_mode": {
    "name": "ipython",
    "version": 2
   },
   "file_extension": ".py",
   "mimetype": "text/x-python",
   "name": "python",
   "nbconvert_exporter": "python",
   "pygments_lexer": "ipython2",
   "version": "2.7.8"
  }
 },
 "nbformat": 4,
 "nbformat_minor": 0
}
