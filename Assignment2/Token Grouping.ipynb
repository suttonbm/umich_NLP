{
 "cells": [
  {
   "cell_type": "code",
   "execution_count": 28,
   "metadata": {
    "collapsed": true
   },
   "outputs": [],
   "source": [
    "import itertools, nltk"
   ]
  },
  {
   "cell_type": "code",
   "execution_count": 29,
   "metadata": {
    "collapsed": true
   },
   "outputs": [],
   "source": [
    "with open('data/brown_small.txt', 'r') as ifile:\n",
    "    sents = ifile.readlines()\n",
    "\n",
    "def fancysplit0(sents):\n",
    "    def addstuff(sent):\n",
    "        return \"SENT \" + sent + \" *\"\n",
    "    return [addstuff(s).split() for s in sents]\n",
    "\n",
    "toks = fancysplit0(sents)"
   ]
  },
  {
   "cell_type": "code",
   "execution_count": 42,
   "metadata": {
    "collapsed": false
   },
   "outputs": [],
   "source": [
    "def bigrams0(toks):\n",
    "    return [list(nltk.bigrams(s)) for s in toks]\n",
    "\n",
    "def bigrams1(toks):\n",
    "    result = []\n",
    "    for sent in toks:\n",
    "        result.append([(sent[i], sent[i+1]) for i in range(len(sent)-1)])\n",
    "    return result\n",
    "\n",
    "def bigrams2(toks):\n",
    "    return [[(sent[i], sent[i+1]) for i in range(len(sent)-1)] for sent in toks]\n",
    "\n",
    "def bigrams3(toks):\n",
    "    return [list(nltk.ngrams(s, 2)) for s in toks]"
   ]
  },
  {
   "cell_type": "code",
   "execution_count": 43,
   "metadata": {
    "collapsed": false
   },
   "outputs": [
    {
     "name": "stdout",
     "output_type": "stream",
     "text": [
      "10000 loops, best of 3: 565 µs per loop\n"
     ]
    }
   ],
   "source": [
    "%timeit -n 10000 b = bigrams0(toks)"
   ]
  },
  {
   "cell_type": "code",
   "execution_count": 32,
   "metadata": {
    "collapsed": false
   },
   "outputs": [
    {
     "name": "stdout",
     "output_type": "stream",
     "text": [
      "10000 loops, best of 3: 121 µs per loop\n"
     ]
    }
   ],
   "source": [
    "%timeit -n 10000 b = bigrams1(toks)"
   ]
  },
  {
   "cell_type": "code",
   "execution_count": 33,
   "metadata": {
    "collapsed": false
   },
   "outputs": [
    {
     "name": "stdout",
     "output_type": "stream",
     "text": [
      "10000 loops, best of 3: 120 µs per loop\n"
     ]
    }
   ],
   "source": [
    "%timeit -n 10000 b = bigrams2(toks)"
   ]
  },
  {
   "cell_type": "code",
   "execution_count": 41,
   "metadata": {
    "collapsed": false
   },
   "outputs": [
    {
     "name": "stdout",
     "output_type": "stream",
     "text": [
      "10000 loops, best of 3: 449 µs per loop\n"
     ]
    }
   ],
   "source": [
    "%timeit -n 10000 b = bigrams3(toks)"
   ]
  },
  {
   "cell_type": "code",
   "execution_count": 44,
   "metadata": {
    "collapsed": true
   },
   "outputs": [],
   "source": [
    "def trigrams0(toks):\n",
    "    return [list(nltk.trigrams(s)) for s in toks]\n",
    "\n",
    "def trigrams1(toks):\n",
    "    return [[(sent[i], sent[i+1], sent[i+2]) for i in range(len(sent)-2)] for sent in toks]\n",
    "\n",
    "def trigrams2(toks):\n",
    "    return [list(nltk.ngrams(s, 3)) for s in toks]"
   ]
  },
  {
   "cell_type": "code",
   "execution_count": 45,
   "metadata": {
    "collapsed": false
   },
   "outputs": [
    {
     "name": "stdout",
     "output_type": "stream",
     "text": [
      "10000 loops, best of 3: 507 µs per loop\n"
     ]
    }
   ],
   "source": [
    "%timeit -n 10000 t = trigrams0(toks)"
   ]
  },
  {
   "cell_type": "code",
   "execution_count": 37,
   "metadata": {
    "collapsed": false
   },
   "outputs": [
    {
     "name": "stdout",
     "output_type": "stream",
     "text": [
      "10000 loops, best of 3: 140 µs per loop\n"
     ]
    }
   ],
   "source": [
    "%timeit -n 10000 t = trigrams1(toks)"
   ]
  },
  {
   "cell_type": "code",
   "execution_count": 46,
   "metadata": {
    "collapsed": false
   },
   "outputs": [
    {
     "name": "stdout",
     "output_type": "stream",
     "text": [
      "10000 loops, best of 3: 443 µs per loop\n"
     ]
    }
   ],
   "source": [
    "%timeit -n 10000 t = trigrams2(toks)"
   ]
  },
  {
   "cell_type": "markdown",
   "metadata": {},
   "source": [
    "Conclusion:\n",
    "\n",
    "Using a list comprehension is again the best method for creating bigrams/trigrams."
   ]
  }
 ],
 "metadata": {
  "kernelspec": {
   "display_name": "Python 2",
   "language": "python",
   "name": "python2"
  },
  "language_info": {
   "codemirror_mode": {
    "name": "ipython",
    "version": 2
   },
   "file_extension": ".py",
   "mimetype": "text/x-python",
   "name": "python",
   "nbconvert_exporter": "python",
   "pygments_lexer": "ipython2",
   "version": "2.7.8"
  }
 },
 "nbformat": 4,
 "nbformat_minor": 0
}
