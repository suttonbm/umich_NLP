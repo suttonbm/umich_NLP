{
 "cells": [
  {
   "cell_type": "code",
   "execution_count": 1,
   "metadata": {
    "collapsed": true
   },
   "outputs": [],
   "source": [
    "from collections import defaultdict\n",
    "import numpy as np"
   ]
  },
  {
   "cell_type": "code",
   "execution_count": 34,
   "metadata": {
    "collapsed": true
   },
   "outputs": [],
   "source": [
    "def fancySplit(sents):\n",
    "    return [(\"SENT \" + s + \" *\").split() for s in sents]\n",
    "\n",
    "def words(sents):\n",
    "    return [[(s,) for s in sent] for sent in sents]\n",
    "\n",
    "def bigrams(sents):\n",
    "    return [[(sent[i], sent[i+1]) for i in range(len(sent)-1)] for sent in sents]\n",
    "\n",
    "def trigrams(sents):\n",
    "    return [[(sent[i], sent[i+1], sent[i+2]) for i in range(len(sent)-2)] for sent in sents]\n",
    "\n",
    "def getTokens(sents):\n",
    "    # Tokenize the input sentences\n",
    "    print(\"Tokenizing sentences...\")\n",
    "    toks = fancySplit(sents)\n",
    "\n",
    "    # Create words, bigrams, and trigrams\n",
    "    print(\"Creating unigrams, bigrams, and trigrams...\")\n",
    "    w = words(toks)\n",
    "    b = bigrams(toks)\n",
    "    t = trigrams(toks)\n",
    "\n",
    "    return (w, b, t)\n",
    "\n",
    "def getCounts(toks):\n",
    "    d = defaultdict(int)\n",
    "    for t in toks:\n",
    "        d[t] += 1\n",
    "    return d"
   ]
  },
  {
   "cell_type": "code",
   "execution_count": 35,
   "metadata": {
    "collapsed": false
   },
   "outputs": [
    {
     "name": "stdout",
     "output_type": "stream",
     "text": [
      "Tokenizing sentences...\n",
      "Creating unigrams, bigrams, and trigrams...\n"
     ]
    }
   ],
   "source": [
    "with open('data/Sample1.txt', 'r') as ifile:\n",
    "    corpus = ifile.readlines()\n",
    "\n",
    "(words, bigrams, trigrams) = getTokens(corpus)"
   ]
  },
  {
   "cell_type": "code",
   "execution_count": 44,
   "metadata": {
    "collapsed": false
   },
   "outputs": [],
   "source": [
    "flatWords = [w for sublist in words for w in sublist]\n",
    "unigram_counts = getCounts(flatWords)\n",
    "totalWords = len(flatWords)"
   ]
  },
  {
   "cell_type": "code",
   "execution_count": 62,
   "metadata": {
    "collapsed": false
   },
   "outputs": [
    {
     "data": {
      "text/plain": [
       "[('SENT',),\n",
       " ('The',),\n",
       " ('Fulton',),\n",
       " ('County',),\n",
       " ('Grand',),\n",
       " ('Jury',),\n",
       " ('said',),\n",
       " ('Friday',),\n",
       " ('an',),\n",
       " ('investigation',),\n",
       " ('of',),\n",
       " (\"Atlanta's\",),\n",
       " ('recent',),\n",
       " ('primary',),\n",
       " ('election',),\n",
       " ('produced',),\n",
       " ('``',),\n",
       " ('no',),\n",
       " ('evidence',),\n",
       " (\"''\",),\n",
       " ('that',),\n",
       " ('any',),\n",
       " ('irregularities',),\n",
       " ('took',),\n",
       " ('place',),\n",
       " ('.',),\n",
       " ('*',),\n",
       " ('SENT',),\n",
       " ('The',),\n",
       " ('jury',),\n",
       " ('further',),\n",
       " ('said',),\n",
       " ('in',),\n",
       " ('term-end',),\n",
       " ('presentments',),\n",
       " ('that',),\n",
       " ('the',),\n",
       " ('City',),\n",
       " ('Executive',),\n",
       " ('Committee',),\n",
       " (',',),\n",
       " ('which',),\n",
       " ('had',),\n",
       " ('over-all',),\n",
       " ('charge',),\n",
       " ('of',),\n",
       " ('the',),\n",
       " ('election',),\n",
       " (',',),\n",
       " ('``',)]"
      ]
     },
     "execution_count": 62,
     "metadata": {},
     "output_type": "execute_result"
    }
   ],
   "source": [
    "flatWords[:50]"
   ]
  },
  {
   "cell_type": "code",
   "execution_count": 46,
   "metadata": {
    "collapsed": false
   },
   "outputs": [
    {
     "data": {
      "text/plain": [
       "5000"
      ]
     },
     "execution_count": 46,
     "metadata": {},
     "output_type": "execute_result"
    }
   ],
   "source": [
    "unigram_counts[('SENT',)]"
   ]
  },
  {
   "cell_type": "code",
   "execution_count": 47,
   "metadata": {
    "collapsed": false
   },
   "outputs": [
    {
     "data": {
      "text/plain": [
       "131102"
      ]
     },
     "execution_count": 47,
     "metadata": {},
     "output_type": "execute_result"
    }
   ],
   "source": [
    "totalWords"
   ]
  },
  {
   "cell_type": "code",
   "execution_count": 48,
   "metadata": {
    "collapsed": false
   },
   "outputs": [],
   "source": [
    "unigram_p = {k : np.log2((float(v) / totalWords)) for k, v in unigram_counts.iteritems()}"
   ]
  },
  {
   "cell_type": "code",
   "execution_count": 50,
   "metadata": {
    "collapsed": false
   },
   "outputs": [
    {
     "data": {
      "text/plain": [
       "-4.7126177893568162"
      ]
     },
     "execution_count": 50,
     "metadata": {},
     "output_type": "execute_result"
    }
   ],
   "source": [
    "unigram_p[('SENT',)]"
   ]
  },
  {
   "cell_type": "code",
   "execution_count": 51,
   "metadata": {
    "collapsed": true
   },
   "outputs": [],
   "source": [
    "flatBigrams = [b for sublist in bigrams for b in sublist]\n",
    "bigram_counts = getCounts(flatBigrams)"
   ]
  },
  {
   "cell_type": "code",
   "execution_count": 52,
   "metadata": {
    "collapsed": false
   },
   "outputs": [
    {
     "data": {
      "text/plain": [
       "('SENT', 'The')"
      ]
     },
     "execution_count": 52,
     "metadata": {},
     "output_type": "execute_result"
    }
   ],
   "source": [
    "flatBigrams[0]"
   ]
  },
  {
   "cell_type": "code",
   "execution_count": 53,
   "metadata": {
    "collapsed": false
   },
   "outputs": [
    {
     "data": {
      "text/plain": [
       "819"
      ]
     },
     "execution_count": 53,
     "metadata": {},
     "output_type": "execute_result"
    }
   ],
   "source": [
    "bigram_counts[('SENT', 'The')]"
   ]
  },
  {
   "cell_type": "code",
   "execution_count": 54,
   "metadata": {
    "collapsed": false
   },
   "outputs": [],
   "source": [
    "bigram_p = {}\n",
    "for k, v in bigram_counts.iteritems():\n",
    "    u_Count = unigram_counts[k[0:1]]\n",
    "    bigram_p[k] = np.log2(float(v) / u_Count)"
   ]
  },
  {
   "cell_type": "code",
   "execution_count": 55,
   "metadata": {
    "collapsed": false
   },
   "outputs": [
    {
     "data": {
      "text/plain": [
       "-2.6099927379084407"
      ]
     },
     "execution_count": 55,
     "metadata": {},
     "output_type": "execute_result"
    }
   ],
   "source": [
    "bigram_p[('SENT', 'The')]"
   ]
  },
  {
   "cell_type": "code",
   "execution_count": 56,
   "metadata": {
    "collapsed": true
   },
   "outputs": [],
   "source": [
    "flatTrigrams = [t for sublist in trigrams for t in sublist]\n",
    "trigram_counts = getCounts(flatTrigrams)"
   ]
  },
  {
   "cell_type": "code",
   "execution_count": 57,
   "metadata": {
    "collapsed": false
   },
   "outputs": [
    {
     "data": {
      "text/plain": [
       "('SENT', 'The', 'Fulton')"
      ]
     },
     "execution_count": 57,
     "metadata": {},
     "output_type": "execute_result"
    }
   ],
   "source": [
    "flatTrigrams[0]"
   ]
  },
  {
   "cell_type": "code",
   "execution_count": 58,
   "metadata": {
    "collapsed": false
   },
   "outputs": [
    {
     "data": {
      "text/plain": [
       "1"
      ]
     },
     "execution_count": 58,
     "metadata": {},
     "output_type": "execute_result"
    }
   ],
   "source": [
    "trigram_counts[('SENT','The','Fulton')]"
   ]
  },
  {
   "cell_type": "code",
   "execution_count": 59,
   "metadata": {
    "collapsed": true
   },
   "outputs": [],
   "source": [
    "trigram_p = {}\n",
    "for k, v in trigram_counts.iteritems():\n",
    "    b_Count = bigram_counts[k[0:2]]\n",
    "    trigram_p[k] = np.log2(float(v) / b_Count)"
   ]
  },
  {
   "cell_type": "code",
   "execution_count": 60,
   "metadata": {
    "collapsed": false
   },
   "outputs": [
    {
     "data": {
      "text/plain": [
       "-9.6777196416410085"
      ]
     },
     "execution_count": 60,
     "metadata": {},
     "output_type": "execute_result"
    }
   ],
   "source": [
    "trigram_p[('SENT','The','Fulton')]"
   ]
  },
  {
   "cell_type": "code",
   "execution_count": null,
   "metadata": {
    "collapsed": true
   },
   "outputs": [],
   "source": []
  }
 ],
 "metadata": {
  "kernelspec": {
   "display_name": "Python 2",
   "language": "python",
   "name": "python2"
  },
  "language_info": {
   "codemirror_mode": {
    "name": "ipython",
    "version": 2
   },
   "file_extension": ".py",
   "mimetype": "text/x-python",
   "name": "python",
   "nbconvert_exporter": "python",
   "pygments_lexer": "ipython2",
   "version": "2.7.8"
  }
 },
 "nbformat": 4,
 "nbformat_minor": 0
}
