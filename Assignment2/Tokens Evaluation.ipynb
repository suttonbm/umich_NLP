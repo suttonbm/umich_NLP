{
 "cells": [
  {
   "cell_type": "code",
   "execution_count": 20,
   "metadata": {
    "collapsed": true
   },
   "outputs": [],
   "source": [
    "import nltk, re"
   ]
  },
  {
   "cell_type": "code",
   "execution_count": 21,
   "metadata": {
    "collapsed": true
   },
   "outputs": [],
   "source": [
    "def split0(sents):\n",
    "    result = []\n",
    "    for s in sents:\n",
    "        result.append(s.split())\n",
    "    return result\n",
    "\n",
    "def split1(sents):\n",
    "    return [s.split() for s in sents]\n",
    "\n",
    "def split2(sents):\n",
    "    return [re.split(' ', s) for s in sents]\n",
    "\n",
    "def split3(sents):\n",
    "    return [re.split('\\s+', s) for s in sents]\n",
    "\n",
    "def split4(sents):\n",
    "    return [nltk.word_tokenize(s) for s in sents]"
   ]
  },
  {
   "cell_type": "code",
   "execution_count": 22,
   "metadata": {
    "collapsed": true
   },
   "outputs": [],
   "source": [
    "with open('data/brown_small.txt', 'r') as ifile:\n",
    "    sents = ifile.readlines()"
   ]
  },
  {
   "cell_type": "code",
   "execution_count": 23,
   "metadata": {
    "collapsed": false
   },
   "outputs": [
    {
     "name": "stdout",
     "output_type": "stream",
     "text": [
      "10000 loops, best of 3: 49.4 µs per loop\n"
     ]
    }
   ],
   "source": [
    "%timeit -n 10000 tok = split0(sents)"
   ]
  },
  {
   "cell_type": "code",
   "execution_count": 24,
   "metadata": {
    "collapsed": false
   },
   "outputs": [
    {
     "name": "stdout",
     "output_type": "stream",
     "text": [
      "10000 loops, best of 3: 46.5 µs per loop\n"
     ]
    }
   ],
   "source": [
    "%timeit -n 10000 tok = split1(sents)"
   ]
  },
  {
   "cell_type": "code",
   "execution_count": 25,
   "metadata": {
    "collapsed": false
   },
   "outputs": [
    {
     "name": "stdout",
     "output_type": "stream",
     "text": [
      "10000 loops, best of 3: 119 µs per loop\n"
     ]
    }
   ],
   "source": [
    "%timeit -n 10000 tok = split2(sents)"
   ]
  },
  {
   "cell_type": "code",
   "execution_count": 26,
   "metadata": {
    "collapsed": false
   },
   "outputs": [
    {
     "name": "stdout",
     "output_type": "stream",
     "text": [
      "10000 loops, best of 3: 277 µs per loop\n"
     ]
    }
   ],
   "source": [
    "%timeit -n 10000 tok = split3(sents)"
   ]
  },
  {
   "cell_type": "code",
   "execution_count": 28,
   "metadata": {
    "collapsed": false
   },
   "outputs": [
    {
     "name": "stdout",
     "output_type": "stream",
     "text": [
      "100 loops, best of 3: 6.8 ms per loop\n"
     ]
    }
   ],
   "source": [
    "%timeit -n 100 tok = split4(sents)"
   ]
  },
  {
   "cell_type": "markdown",
   "metadata": {},
   "source": [
    "Conclusion:\n",
    "\n",
    "Using str.split() as a list comprehension is the fastest solution for splitting a sentence into words based on whitespace."
   ]
  },
  {
   "cell_type": "code",
   "execution_count": 36,
   "metadata": {
    "collapsed": true
   },
   "outputs": [],
   "source": [
    "def fancysplit0(sents):\n",
    "    def addstuff(sent):\n",
    "        return \"SENT \" + sent + \" *\"\n",
    "    return [addstuff(s).split() for s in sents]\n",
    "\n",
    "def fancysplit1(sents):\n",
    "    result = [s.split() for s in sents]\n",
    "    [s.append(\"*\") for s in result]\n",
    "    [s.insert(0, \"SENT\") for s in result]\n",
    "    return result\n",
    "\n",
    "def fancysplit2(sents):\n",
    "    result = [s.split() for s in sents]\n",
    "    for r in result:\n",
    "        r.append(\"*\")\n",
    "        r.insert(0, \"SENT\")\n",
    "    return result\n",
    "\n",
    "def fancysplit3(sents):\n",
    "    return [(\"SENT \" + s + \" *\").split() for s in sents]\n",
    "\n",
    "def fancysplit4(sents):\n",
    "    return [(\"SENT %s *\" % s).split() for s in sents]"
   ]
  },
  {
   "cell_type": "code",
   "execution_count": 30,
   "metadata": {
    "collapsed": false
   },
   "outputs": [
    {
     "name": "stdout",
     "output_type": "stream",
     "text": [
      "10000 loops, best of 3: 57 µs per loop\n"
     ]
    }
   ],
   "source": [
    "%timeit -n 10000 toks = fancysplit0(sents)"
   ]
  },
  {
   "cell_type": "code",
   "execution_count": 31,
   "metadata": {
    "collapsed": false
   },
   "outputs": [
    {
     "name": "stdout",
     "output_type": "stream",
     "text": [
      "10000 loops, best of 3: 60.4 µs per loop\n"
     ]
    }
   ],
   "source": [
    "%timeit -n 10000 toks = fancysplit1(sents)"
   ]
  },
  {
   "cell_type": "code",
   "execution_count": 32,
   "metadata": {
    "collapsed": false
   },
   "outputs": [
    {
     "name": "stdout",
     "output_type": "stream",
     "text": [
      "10000 loops, best of 3: 57.9 µs per loop\n"
     ]
    }
   ],
   "source": [
    "%timeit -n 10000 toks = fancysplit2(sents)"
   ]
  },
  {
   "cell_type": "code",
   "execution_count": 33,
   "metadata": {
    "collapsed": false
   },
   "outputs": [
    {
     "name": "stdout",
     "output_type": "stream",
     "text": [
      "10000 loops, best of 3: 53 µs per loop\n"
     ]
    }
   ],
   "source": [
    "%timeit -n 10000 toks = fancysplit3(sents)"
   ]
  },
  {
   "cell_type": "code",
   "execution_count": 37,
   "metadata": {
    "collapsed": false
   },
   "outputs": [
    {
     "name": "stdout",
     "output_type": "stream",
     "text": [
      "10000 loops, best of 3: 60.9 µs per loop\n"
     ]
    }
   ],
   "source": [
    "%timeit -n 10000 toks = fancysplit4(sents)"
   ]
  },
  {
   "cell_type": "markdown",
   "metadata": {},
   "source": [
    "Conclusion:\n",
    "\n",
    "Looks like appending to the string inside a list comprehension is best, but the improvement is marginal."
   ]
  }
 ],
 "metadata": {
  "kernelspec": {
   "display_name": "Python 2",
   "language": "python",
   "name": "python2"
  },
  "language_info": {
   "codemirror_mode": {
    "name": "ipython",
    "version": 2
   },
   "file_extension": ".py",
   "mimetype": "text/x-python",
   "name": "python",
   "nbconvert_exporter": "python",
   "pygments_lexer": "ipython2",
   "version": "2.7.8"
  }
 },
 "nbformat": 4,
 "nbformat_minor": 0
}
