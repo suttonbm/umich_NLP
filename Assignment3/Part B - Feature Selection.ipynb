{
 "cells": [
  {
   "cell_type": "code",
   "execution_count": 1,
   "metadata": {
    "collapsed": true
   },
   "outputs": [],
   "source": [
    "from main import parse_data\n",
    "\n",
    "train = parse_data(\"data/English-train.xml\")\n",
    "test = parse_data(\"data/English-dev.xml\")"
   ]
  },
  {
   "cell_type": "code",
   "execution_count": 2,
   "metadata": {
    "collapsed": true
   },
   "outputs": [],
   "source": [
    "from B import vectorize\n",
    "from collections import defaultdict\n",
    "\n",
    "INST_ID = 0\n",
    "L_CON = 1\n",
    "HEAD = 2\n",
    "R_CON = 3\n",
    "SENSE_ID = 4"
   ]
  },
  {
   "cell_type": "markdown",
   "metadata": {},
   "source": [
    "## Data Exploration\n",
    "Let's look at what is inside the training dataset"
   ]
  },
  {
   "cell_type": "code",
   "execution_count": 3,
   "metadata": {
    "collapsed": false
   },
   "outputs": [
    {
     "data": {
      "text/plain": [
       "dict"
      ]
     },
     "execution_count": 3,
     "metadata": {},
     "output_type": "execute_result"
    }
   ],
   "source": [
    "type(train)"
   ]
  },
  {
   "cell_type": "code",
   "execution_count": 4,
   "metadata": {
    "collapsed": false
   },
   "outputs": [
    {
     "data": {
      "text/plain": [
       "u'begin.v'"
      ]
     },
     "execution_count": 4,
     "metadata": {},
     "output_type": "execute_result"
    }
   ],
   "source": [
    "train_keys = train.keys()\n",
    "train_keys[0]"
   ]
  },
  {
   "cell_type": "code",
   "execution_count": 5,
   "metadata": {
    "collapsed": false
   },
   "outputs": [
    {
     "data": {
      "text/plain": [
       "list"
      ]
     },
     "execution_count": 5,
     "metadata": {},
     "output_type": "execute_result"
    }
   ],
   "source": [
    "type(train[train_keys[0]])"
   ]
  },
  {
   "cell_type": "code",
   "execution_count": 6,
   "metadata": {
    "collapsed": false
   },
   "outputs": [
    {
     "data": {
      "text/plain": [
       "(u'begin.v.bnc.00000159',\n",
       " u\"uk director and organiser of the conference ,  peter johnson ,  said ,  for many ,  the day provided a reaffirmation of the vision for acet and a marvellous sense of unity .  it was the first time our national and international network had gathered together in one place and made us all realise just how much the work has grown .  three visitors from frankfurt , germany , recently visited acet 's offices before returning home to \",\n",
       " u'begin',\n",
       " u' a similar service , christian aids help ( cah ) . interest was expressed in all of the organisational aspects of home care including nursing ,  equipment loans and the volunteer programme .  like acet ,  cah will give both medical and practical help to aids patients in the home .  ',\n",
       " '369204')"
      ]
     },
     "execution_count": 6,
     "metadata": {},
     "output_type": "execute_result"
    }
   ],
   "source": [
    "train[train_keys[0]][0]"
   ]
  },
  {
   "cell_type": "markdown",
   "metadata": {},
   "source": [
    "## Feature Development\n",
    "For the purpose of developing features, let's look at a single instance and develop algorithms."
   ]
  },
  {
   "cell_type": "code",
   "execution_count": 7,
   "metadata": {
    "collapsed": false
   },
   "outputs": [
    {
     "data": {
      "text/plain": [
       "(u'begin.v.bnc.00000159',\n",
       " u\"uk director and organiser of the conference ,  peter johnson ,  said ,  for many ,  the day provided a reaffirmation of the vision for acet and a marvellous sense of unity .  it was the first time our national and international network had gathered together in one place and made us all realise just how much the work has grown .  three visitors from frankfurt , germany , recently visited acet 's offices before returning home to \",\n",
       " u'begin',\n",
       " u' a similar service , christian aids help ( cah ) . interest was expressed in all of the organisational aspects of home care including nursing ,  equipment loans and the volunteer programme .  like acet ,  cah will give both medical and practical help to aids patients in the home .  ',\n",
       " '369204')"
      ]
     },
     "execution_count": 7,
     "metadata": {},
     "output_type": "execute_result"
    }
   ],
   "source": [
    "test_inst = train[train_keys[0]][0]\n",
    "\n",
    "test_inst"
   ]
  },
  {
   "cell_type": "code",
   "execution_count": 8,
   "metadata": {
    "collapsed": false
   },
   "outputs": [
    {
     "data": {
      "text/plain": [
       "defaultdict(int,\n",
       "            {u',.BOW': 1,\n",
       "             u'a.BOW': 1,\n",
       "             u'before.BOW': 1,\n",
       "             u'christian.BOW': 1,\n",
       "             u'home.BOW': 1,\n",
       "             u'offices.BOW': 1,\n",
       "             u'returning.BOW': 1,\n",
       "             u'service.BOW': 1,\n",
       "             u'similar.BOW': 1,\n",
       "             u'to.BOW': 1})"
      ]
     },
     "execution_count": 8,
     "metadata": {},
     "output_type": "execute_result"
    }
   ],
   "source": [
    "lContext = test_inst[L_CON].lower().split()\n",
    "rContext = test_inst[R_CON].lower().split()\n",
    "\n",
    "def countElts(l):\n",
    "    result = defaultdict(int)\n",
    "    for i in l:\n",
    "        result[i] += 1\n",
    "    return result\n",
    "\n",
    "def bagOfWordsFeatures(lContext, rContext, window):\n",
    "    '''\n",
    "    :param lContext: a list of words appearing to the LEFT of the target\n",
    "    :param rContext: a list of words appearing to the RIGHT of the target\n",
    "    :param window: an integer number specifying a maximum distance from\n",
    "        the target from which to select the context\n",
    "    \n",
    "    :return: dict where the key is a word and the value is its count\n",
    "        (the number of appearances within the context)\n",
    "    '''\n",
    "    lCon = lContext[-window:]\n",
    "    if len(lCon) < window:\n",
    "        lCon = ['<B>'] * (window - len(lCon)) + lCon\n",
    "    # END if\n",
    "\n",
    "    rCon = rContext[:window]\n",
    "    if len(rCon) < window:\n",
    "        rCon = rCon + ['<E>'] * (window - len(rCon))\n",
    "    # END if\n",
    "    \n",
    "    context = [elt + \".BOW\" for elt in lCon + rCon]\n",
    "    bagCounts = countElts(context)\n",
    "    \n",
    "    return bagCounts\n",
    "\n",
    "bagOfWordsFeatures(lContext, rContext, 5)"
   ]
  },
  {
   "cell_type": "code",
   "execution_count": 10,
   "metadata": {
    "collapsed": false
   },
   "outputs": [
    {
     "data": {
      "text/plain": [
       "{u',.COLLOC': 3,\n",
       " u'a.COLLOC': 0,\n",
       " u'before.COLLOC': -3,\n",
       " u'christian.COLLOC': 4,\n",
       " u'home.COLLOC': -1,\n",
       " u'offices.COLLOC': -4,\n",
       " u'returning.COLLOC': -2,\n",
       " u'service.COLLOC': 2,\n",
       " u'similar.COLLOC': 1,\n",
       " u'to.COLLOC': 0}"
      ]
     },
     "execution_count": 10,
     "metadata": {},
     "output_type": "execute_result"
    }
   ],
   "source": [
    "import math\n",
    "\n",
    "def collocationFeatures(lContext, rContext, window, fn=lambda x: x):\n",
    "    '''\n",
    "    :param lContext: a list of words appearing to the LEFT of the target\n",
    "    :param rContext: a list of words appearing to the RIGHT of the target\n",
    "    :param window: an integer number specifying a maximum distance from\n",
    "        the target from which to select the context\n",
    "    :param fn: an optional scaling function to calculate a value for each\n",
    "        collocation.\n",
    "    \n",
    "    :return: dict where the key is a word and the value is fn(distance)\n",
    "        from the target word.  In cases where there are multiple appearances\n",
    "        the closest distance is selected.\n",
    "    '''\n",
    "    lCon = lContext[-window:]\n",
    "    if len(lCon) < window:\n",
    "        lCon = ['<B>'] * (window - len(lCon)) + lCon\n",
    "    # END if\n",
    "\n",
    "    rCon = rContext[:window]\n",
    "    if len(rCon) < window:\n",
    "        rCon = rCon + ['<E>'] * (window - len(rCon))\n",
    "    # END if\n",
    "    \n",
    "    result = {}\n",
    "    for k in range(0, window):\n",
    "        dist = fn(k)\n",
    "        rFeat = rCon[k] + '.COLLOC'\n",
    "        lFeat = lCon[-(k+1)] + '.COLLOC'\n",
    "        if rFeat not in result.keys():\n",
    "            result[rFeat] = dist\n",
    "        if lFeat not in result.keys():\n",
    "            result[lFeat] = -dist\n",
    "    # END for\n",
    "    \n",
    "    return result\n",
    "\n",
    "collocationFeatures(lContext, rContext, 5)"
   ]
  },
  {
   "cell_type": "code",
   "execution_count": 11,
   "metadata": {
    "collapsed": false
   },
   "outputs": [
    {
     "data": {
      "text/plain": [
       "{',.POS': 4,\n",
       " 'DT.POS': 1,\n",
       " 'HEAD.POS': 'VB',\n",
       " 'IN.POS': -4,\n",
       " 'JJ.POS': 2,\n",
       " 'NN.POS': -2,\n",
       " 'NNS.POS': -5,\n",
       " 'TO.POS': -1,\n",
       " 'VBG.POS': -3}"
      ]
     },
     "execution_count": 11,
     "metadata": {},
     "output_type": "execute_result"
    }
   ],
   "source": [
    "import nltk\n",
    "\n",
    "def posCollocationFeatures(target, lContext, rContext, window):\n",
    "    '''\n",
    "    :param target: the target word to be disambiguated\n",
    "    :param lContext: a list of words appearing to the LEFT of the target\n",
    "    :param rContext: a list of words appearing to the RIGHT of the target\n",
    "    :param window: an integer number specifying a maximum distance from\n",
    "        the target from which to select the context\n",
    "    \n",
    "    :return: dict where the key is a part of speech and the value is the distance\n",
    "        from the target word.\n",
    "    '''\n",
    "    lCon = lContext[-window:]\n",
    "    if len(lCon) < window:\n",
    "        lCon = ['<B>'] * (window - len(lCon)) + lCon\n",
    "    # END if\n",
    "\n",
    "    rCon = rContext[:window]\n",
    "    if len(rCon) < window:\n",
    "        rCon = rCon + ['<E>'] * (window - len(rCon))\n",
    "    # END if\n",
    "    \n",
    "    context = lCon + [target] + rCon\n",
    "    context_Tagged = nltk.pos_tag(context)\n",
    "    \n",
    "    result = {}\n",
    "    for k in range(window-1, -1, -1):\n",
    "        rFeat = context_Tagged[-(k+1)][1] + '.POS'\n",
    "        lFeat = context_Tagged[k][1] + '.POS'\n",
    "        if rFeat not in result.keys():\n",
    "            result[rFeat] = window - k\n",
    "        if lFeat not in result.keys():\n",
    "            result[lFeat] = -(window - k)\n",
    "    # END for\n",
    "    result['HEAD.POS'] = context_Tagged[window][1]\n",
    "    \n",
    "    return result\n",
    "\n",
    "posCollocationFeatures(test_inst[HEAD].lower(), lContext, rContext, 5)"
   ]
  },
  {
   "cell_type": "code",
   "execution_count": 17,
   "metadata": {
    "collapsed": false
   },
   "outputs": [
    {
     "name": "stdout",
     "output_type": "stream",
     "text": [
      "[u'uk', u'director', u'organiser', u'conference', u',', u'peter', u'johnson', u',', u'said', u',', u'many', u',', u'day', u'provided', u'reaffirmation', u'vision', u'acet', u'marvellous', u'sense', u'unity', u'.', u'first', u'time', u'national', u'international', u'network', u'gathered', u'together', u'one', u'place', u'made', u'us', u'realise', u'much', u'work', u'grown', u'.', u'three', u'visitors', u'frankfurt', u',', u'germany', u',', u'recently', u'visited', u'acet', u\"'s\", u'offices', u'returning', u'home']\n",
      " a similar service  christian aids help  cah   interest was expressed in all of the organisational aspects of home care including nursing   equipment loans and the volunteer programme   like acet   cah will give both medical and practical help to aids patients in the home   \n"
     ]
    }
   ],
   "source": [
    "from nltk.corpus import stopwords\n",
    "import string\n",
    "\n",
    "def rmStopWords(l):\n",
    "    stops = set(stopwords.words('english'))\n",
    "    return [w for w in l if w not in stops]\n",
    "\n",
    "def rmPunct(s):\n",
    "    tab = {ord(c): None for c in string.punctuation}\n",
    "    return s.translate(tab)\n",
    "\n",
    "print rmStopWords(lContext)\n",
    "print rmPunct(test_inst[R_CON])"
   ]
  },
  {
   "cell_type": "code",
   "execution_count": 21,
   "metadata": {
    "collapsed": false
   },
   "outputs": [],
   "source": [
    "window_size = 10\n",
    "\n",
    "DEFAULT_OPS = {\"STOPWORDS\":    False, \\\n",
    "               \"PUNCTUATION\":  False, \\\n",
    "               \"BAGOFWORDS\":   True, \\\n",
    "               \"COLLOCATION\":  True, \\\n",
    "               \"PARTOFSPEECH\": True \\\n",
    "               }\n",
    "\n",
    "def getFeatures(inst, ops):\n",
    "    result = {}\n",
    "\n",
    "    lContext = inst[L_CON].lower()\n",
    "    rContext = inst[R_CON].lower()\n",
    "\n",
    "    if ops['PUNCTUATION']:\n",
    "        lContext = rmStopWords(lContext)\n",
    "        rContext = rmStopWords(rContext)\n",
    "\n",
    "    lContext = lContext.split()\n",
    "    rContext = rContext.split()\n",
    "\n",
    "    if ops['STOPWORDS']:\n",
    "        lContext = rmStopWords(lContext)\n",
    "        rContext = rmStopWords(rContext)\n",
    "    if ops['BAGOFWORDS']:\n",
    "        result.update(bagOfWordsFeatures(lContext, rContext, window_size))\n",
    "    if ops['COLLOCATION']:\n",
    "        result.update(collocationFeatures(lContext, rContext, window_size))\n",
    "    if ops['PARTOFSPEECH']:\n",
    "        result.update(posCollocationFeatures(inst[HEAD], lContext, rContext, window_size))\n",
    "\n",
    "    return result\n",
    "\n",
    "test_features = {\"TEST\": getFeatures(test_inst, DEFAULT_OPS)}"
   ]
  },
  {
   "cell_type": "code",
   "execution_count": 22,
   "metadata": {
    "collapsed": false
   },
   "outputs": [
    {
     "data": {
      "text/plain": [
       "({'TEST': array([  1.,  -5.,   1.,   7.,   8.,   1.,   9.,  10.,   2.,   3.,   4.,\n",
       "           1.,   1.,  -4.,   2.,  -2.,  -5.,  -6.,  -9.,  -1.,  -8.,  -3.,\n",
       "           1.,   0.,   1.,  -6.,   1.,   5.,   1.,  -3.,   1.,   8.,   1.,\n",
       "           4.,   1.,   6.,   1.,  -1.,   1.,  -4.,   1.,  -8.,   1.,  -2.,\n",
       "           1.,   2.,   1.,   1.,   1.,   0.,   1.,  -7.])},\n",
       " {'TEST': array([  1.,  -5.,   1.,   7.,   8.,   1.,   9.,  10.,   2.,   3.,   4.,\n",
       "           1.,   1.,  -4.,   2.,  -2.,  -5.,  -6.,  -9.,  -1.,  -8.,  -3.,\n",
       "           1.,   0.,   1.,  -6.,   1.,   5.,   1.,  -3.,   1.,   8.,   1.,\n",
       "           4.,   1.,   6.,   1.,  -1.,   1.,  -4.,   1.,  -8.,   1.,  -2.,\n",
       "           1.,   2.,   1.,   1.,   1.,   0.,   1.,  -7.])})"
      ]
     },
     "execution_count": 22,
     "metadata": {},
     "output_type": "execute_result"
    }
   ],
   "source": [
    "vectorize(test_features, test_features)"
   ]
  }
 ],
 "metadata": {
  "kernelspec": {
   "display_name": "Python 2",
   "language": "python",
   "name": "python2"
  },
  "language_info": {
   "codemirror_mode": {
    "name": "ipython",
    "version": 2
   },
   "file_extension": ".py",
   "mimetype": "text/x-python",
   "name": "python",
   "nbconvert_exporter": "python",
   "pygments_lexer": "ipython2",
   "version": "2.7.8"
  }
 },
 "nbformat": 4,
 "nbformat_minor": 0
}
