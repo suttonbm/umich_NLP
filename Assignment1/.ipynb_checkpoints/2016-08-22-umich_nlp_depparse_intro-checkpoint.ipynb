{
 "cells": [
  {
   "cell_type": "markdown",
   "metadata": {},
   "source": [
    "#### Syntax Dependency Parsing\n",
    "Syntax dependency parsing, as might be inferred by the name, is a process by which a string of words can be placed into a formal grammar structure.  I use these terms loosely, as the definition of a \"word\" or the formalization of a \"grammar structure\" can be interpreted in many different ways.  For the purpose of this assignment, we'll use the lay definition of a \"word\" - i.e. words of a language, and \"grammar structure\" can be taken to mean the series of hierarchical relationships different words have to one another.\n",
    "\n",
    "What do I mean by this?\n",
    "\n",
    "For example, consder the sentence \"I eat cake\".  With a basic understanding of english grammar, we can immediately identify \"I\" to be the subject, \"cake\" to be a direct object, and \"eat\" to be a verb relating the subject and direct object.  If we were to think of this sentence programmatically, we might translate the sentence to:\n",
    "```\n",
    "eat(\"I\", \"cake\")\n",
    "```\n",
    "\n",
    "In order for the function, or verb, to \"execute\" correctly, it needs two arguments: a subject and a direct object.\n",
    "\n",
    "This type of thinking can be extended to higher complexity phrases, but this will be left as an exercise to the reader."
   ]
  },
  {
   "cell_type": "markdown",
   "metadata": {},
   "source": [
    "#### Supervised Learning of Dependency Parsing\n",
    "One challenge in creating a way to programmatically determine the dependency structure of written language is that a formal set of grammar rules is often not available.  In addition, trying to use a purely rules-based approach can be challenging or impossible if trying to parse languages the programmer is not familiar with.\n",
    "\n",
    "Thus, we can approach dependency parsing as a supervised learning problem.  Using \"golden\" dependency data, we can train a program to create \"rules\" which maximize the accuracy of dependency trees on that data, then apply those rules to new, unseen data to obtain a dependency tree."
   ]
  },
  {
   "cell_type": "markdown",
   "metadata": {},
   "source": [
    "#### Structure of a Dependency Graph\n",
    "The dependency graph of a sentence $ S = w_1, w_2, ... , w_n $ is a directed graph $ G = (V, A) $, where $V$ is the set of words (nodes), and $A$ is the set of labeled dependencies (arcs).\n",
    "\n",
    "The arc $i \\rightarrow j$ specifies a dependency relationship from $j$ to $i$, and we can say that the **head** of the dependency is $w_i$ and its **dependent** is $w_j$."
   ]
  },
  {
   "cell_type": "markdown",
   "metadata": {},
   "source": [
    "#### The Shift-Reduce Parser [1]\n",
    "We can define a simple shift-reduce parser as an algorithm which, operates on a **configuration**, consisting of a *stack* and a *buffer*.  There are four basic operations:\n",
    "\n",
    "  * Left Arc: Add a left-pointing dependency relation\n",
    "  * Right Arc: Add a right-pointing dependency relation\n",
    "  * Shift: Remove a word from the *buffer* and push it onto the *stack*\n",
    "  * Reduce: Remove the top word in the *stack*\n",
    "\n",
    "Formally, the configuration $C$ is defined by the tuple $(\\Sigma, B, A)$, where $\\Sigma$ is the stack, $B$ is the buffer, and $A$ is a set of specified dependency relations.\n",
    "\n",
    "If we define the next (top) node in $\\Sigma$ as $s$ and the next node in $B$ as $b$, and define the label (name) of a dependency relation $L$:\n",
    "\n",
    " * $left\\_arc(C)$ : add arc $(b, L, s)$ and remove $s$ from $\\Sigma$\n",
    " * $right\\_arc(C)$ : add arc $(s, L, b)$ and push $b$ onto $\\Sigma$\n",
    " * $shift(C)$ : push $b$ onto $\\Sigma$ without an arc\n",
    " * $reduce(C)$ : remove $s$ from $\\Sigma$\n",
    "\n",
    "Note that not all of the transitions are valid for all possible configurations:\n",
    "\n",
    " * $left\\_arc$ is invalid if:\n",
    "   * (a) $B$ is empty\n",
    "   * (b) $s$ is the root node $0$, or\n",
    "   * (c) $\\exists a \\in A$ where $s$ is a dependent\n",
    " * $right\\_arc$ is invalid if:\n",
    "   * (a) $B$ is empty, or\n",
    "   * (b) $\\Sigma$ is empty\n",
    " * $shift$ is invalid if:\n",
    "   * (a) $\\Sigma$ is empty, or\n",
    "   * (b) $\\neg \\exists a \\in A$ where $s$ is a dependent\n",
    " * $reduce$ is invalid if:\n",
    "   * (a) $B$ is empty, or\n",
    "   * (b) $\\Sigma$ is empty"
   ]
  },
  {
   "cell_type": "markdown",
   "metadata": {},
   "source": [
    "#### Implementation of the Shift-Reduce Parser\n",
    "The shift-reduce parser can be trained to determine correct operations on a given configuration $C$ using a support vector machine. The implementation of this machine is discussed further in [part 2]({{ base.url }}/2016/08/umich_nlp_depparse_part2)"
   ]
  }
 ],
 "metadata": {
  "anaconda-cloud": {},
  "kernelspec": {
   "display_name": "Python [default]",
   "language": "python",
   "name": "python2"
  },
  "language_info": {
   "codemirror_mode": {
    "name": "ipython",
    "version": 2
   },
   "file_extension": ".py",
   "mimetype": "text/x-python",
   "name": "python",
   "nbconvert_exporter": "python",
   "pygments_lexer": "ipython2",
   "version": "2.7.12"
  }
 },
 "nbformat": 4,
 "nbformat_minor": 1
}
